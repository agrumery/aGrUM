{
 "cells": [
  {
   "cell_type": "markdown",
   "id": "1ed36f17-b576-4ff1-9ecf-eba33c021be7",
   "metadata": {
    "editable": true,
    "slideshow": {
     "slide_type": ""
    },
    "tags": []
   },
   "source": [
    "# Explaining a model"
   ]
  },
  {
   "cell_type": "markdown",
   "id": "1c6bc5ed-5479-4994-85ac-6de814ef4e07",
   "metadata": {
    "execution": {
     "iopub.execute_input": "2022-02-05T18:12:52.515756Z",
     "iopub.status.busy": "2022-02-05T18:12:52.515756Z",
     "iopub.status.idle": "2022-02-05T18:12:52.534743Z",
     "shell.execute_reply": "2022-02-05T18:12:52.533741Z",
     "shell.execute_reply.started": "2022-02-05T18:12:52.515756Z"
    }
   },
   "source": [
    "| | | |\n",
    "|-|-|-|\n",
    "|[ ![Creative Commons License](images/cc4.png)](http://creativecommons.org/licenses/by-nc/4.0/) |[ ![aGrUM](images/logoAgrum.png)](https://agrum.org) |[ ![interactive online version](images/atbinder.svg)](https://agrum.gitlab.io/extra/agrum_at_binder.html)"
   ]
  },
  {
   "cell_type": "code",
   "execution_count": 1,
   "id": "angry-standard",
   "metadata": {
    "execution": {
     "iopub.execute_input": "2025-08-29T11:42:25.255244Z",
     "iopub.status.busy": "2025-08-29T11:42:25.254939Z",
     "iopub.status.idle": "2025-08-29T11:42:25.470335Z",
     "shell.execute_reply": "2025-08-29T11:42:25.470031Z",
     "shell.execute_reply.started": "2025-08-29T11:42:25.255208Z"
    },
    "pycharm": {
     "is_executing": true
    },
    "tags": []
   },
   "outputs": [],
   "source": [
    "import time\n",
    "\n",
    "import pandas as pd\n",
    "\n",
    "import pyagrum as gum\n",
    "import pyagrum.lib.explain as expl"
   ]
  },
  {
   "cell_type": "markdown",
   "id": "complex-local",
   "metadata": {},
   "source": [
    "## Building the model"
   ]
  },
  {
   "cell_type": "markdown",
   "id": "f7624e75-e33f-4162-b5d3-479df34b96c0",
   "metadata": {},
   "source": [
    "We build a simple graph for the example"
   ]
  },
  {
   "cell_type": "code",
   "execution_count": 2,
   "id": "neural-capital",
   "metadata": {
    "execution": {
     "iopub.execute_input": "2025-08-29T11:42:25.470775Z",
     "iopub.status.busy": "2025-08-29T11:42:25.470650Z",
     "iopub.status.idle": "2025-08-29T11:42:25.587859Z",
     "shell.execute_reply": "2025-08-29T11:42:25.587544Z",
     "shell.execute_reply.started": "2025-08-29T11:42:25.470766Z"
    },
    "tags": []
   },
   "outputs": [
    {
     "data": {
      "text/html": [
       "<svg xmlns=\"http://www.w3.org/2000/svg\" xmlns:xlink=\"http://www.w3.org/1999/xlink\" width=\"219pt\" height=\"188pt\" viewBox=\"0.00 0.00 219.00 188.00\">\n",
       "<g id=\"graph0\" class=\"graph\" transform=\"scale(1 1) rotate(0) translate(4 184)\">\n",
       "<title>G</title>\n",
       "<!-- X1 -->\n",
       "<g id=\"node1\" class=\"node\">\n",
       "<title>X1</title>\n",
       "<g id=\"a_node1\"><a xlink:title=\"(0) X1\">\n",
       "<ellipse fill=\"#404040\" stroke=\"#4a4a4a\" cx=\"39.53\" cy=\"-162\" rx=\"27\" ry=\"18\"/>\n",
       "<text xml:space=\"preserve\" text-anchor=\"middle\" x=\"39.53\" y=\"-156.95\" font-family=\"Times,serif\" font-size=\"14.00\" fill=\"white\">X1</text>\n",
       "</a>\n",
       "</g>\n",
       "</g>\n",
       "<!-- Y -->\n",
       "<g id=\"node2\" class=\"node\">\n",
       "<title>Y</title>\n",
       "<g id=\"a_node2\"><a xlink:title=\"(2) Y\">\n",
       "<ellipse fill=\"#404040\" stroke=\"#4a4a4a\" cx=\"39.53\" cy=\"-18\" rx=\"27\" ry=\"18\"/>\n",
       "<text xml:space=\"preserve\" text-anchor=\"middle\" x=\"39.53\" y=\"-12.95\" font-family=\"Times,serif\" font-size=\"14.00\" fill=\"white\">Y</text>\n",
       "</a>\n",
       "</g>\n",
       "</g>\n",
       "<!-- X1&#45;&gt;Y -->\n",
       "<g id=\"edge8\" class=\"edge\">\n",
       "<title>X1-&gt;Y</title>\n",
       "<g id=\"a_edge8\"><a xlink:title=\"0 → 2\">\n",
       "<path fill=\"none\" stroke=\"#4a4a4a\" d=\"M25.78,-146.07C17.57,-136.1 7.91,-122.25 3.53,-108 -1.18,-92.71 -1.18,-87.29 3.53,-72 6.71,-61.65 12.68,-51.51 18.85,-42.91\"/>\n",
       "<polygon fill=\"#4a4a4a\" stroke=\"#4a4a4a\" points=\"21.52,-45.19 24.85,-35.13 15.97,-40.91 21.52,-45.19\"/>\n",
       "</a>\n",
       "</g>\n",
       "</g>\n",
       "<!-- X2 -->\n",
       "<g id=\"node4\" class=\"node\">\n",
       "<title>X2</title>\n",
       "<g id=\"a_node4\"><a xlink:title=\"(1) X2\">\n",
       "<ellipse fill=\"#404040\" stroke=\"#4a4a4a\" cx=\"39.53\" cy=\"-90\" rx=\"27\" ry=\"18\"/>\n",
       "<text xml:space=\"preserve\" text-anchor=\"middle\" x=\"39.53\" y=\"-84.95\" font-family=\"Times,serif\" font-size=\"14.00\" fill=\"white\">X2</text>\n",
       "</a>\n",
       "</g>\n",
       "</g>\n",
       "<!-- X1&#45;&gt;X2 -->\n",
       "<g id=\"edge1\" class=\"edge\">\n",
       "<title>X1-&gt;X2</title>\n",
       "<g id=\"a_edge1\"><a xlink:title=\"0 → 1\">\n",
       "<path fill=\"none\" stroke=\"#4a4a4a\" d=\"M39.53,-143.7C39.53,-136.41 39.53,-127.73 39.53,-119.54\"/>\n",
       "<polygon fill=\"#4a4a4a\" stroke=\"#4a4a4a\" points=\"43.03,-119.62 39.53,-109.62 36.03,-119.62 43.03,-119.62\"/>\n",
       "</a>\n",
       "</g>\n",
       "</g>\n",
       "<!-- Z -->\n",
       "<g id=\"node7\" class=\"node\">\n",
       "<title>Z</title>\n",
       "<g id=\"a_node7\"><a xlink:title=\"(4) Z\">\n",
       "<ellipse fill=\"#404040\" stroke=\"#4a4a4a\" cx=\"111.53\" cy=\"-90\" rx=\"27\" ry=\"18\"/>\n",
       "<text xml:space=\"preserve\" text-anchor=\"middle\" x=\"111.53\" y=\"-84.95\" font-family=\"Times,serif\" font-size=\"14.00\" fill=\"white\">Z</text>\n",
       "</a>\n",
       "</g>\n",
       "</g>\n",
       "<!-- X1&#45;&gt;Z -->\n",
       "<g id=\"edge3\" class=\"edge\">\n",
       "<title>X1-&gt;Z</title>\n",
       "<g id=\"a_edge3\"><a xlink:title=\"0 → 4\">\n",
       "<path fill=\"none\" stroke=\"#4a4a4a\" d=\"M54.45,-146.5C64.29,-136.92 77.39,-124.19 88.55,-113.34\"/>\n",
       "<polygon fill=\"#4a4a4a\" stroke=\"#4a4a4a\" points=\"90.81,-116.02 95.54,-106.54 85.93,-111 90.81,-116.02\"/>\n",
       "</a>\n",
       "</g>\n",
       "</g>\n",
       "<!-- X3 -->\n",
       "<g id=\"node3\" class=\"node\">\n",
       "<title>X3</title>\n",
       "<g id=\"a_node3\"><a xlink:title=\"(3) X3\">\n",
       "<ellipse fill=\"#404040\" stroke=\"#4a4a4a\" cx=\"111.53\" cy=\"-162\" rx=\"27\" ry=\"18\"/>\n",
       "<text xml:space=\"preserve\" text-anchor=\"middle\" x=\"111.53\" y=\"-156.95\" font-family=\"Times,serif\" font-size=\"14.00\" fill=\"white\">X3</text>\n",
       "</a>\n",
       "</g>\n",
       "</g>\n",
       "<!-- X3&#45;&gt;Z -->\n",
       "<g id=\"edge4\" class=\"edge\">\n",
       "<title>X3-&gt;Z</title>\n",
       "<g id=\"a_edge4\"><a xlink:title=\"3 → 4\">\n",
       "<path fill=\"none\" stroke=\"#4a4a4a\" d=\"M111.53,-143.7C111.53,-136.41 111.53,-127.73 111.53,-119.54\"/>\n",
       "<polygon fill=\"#4a4a4a\" stroke=\"#4a4a4a\" points=\"115.03,-119.62 111.53,-109.62 108.03,-119.62 115.03,-119.62\"/>\n",
       "</a>\n",
       "</g>\n",
       "</g>\n",
       "<!-- X2&#45;&gt;Y -->\n",
       "<g id=\"edge2\" class=\"edge\">\n",
       "<title>X2-&gt;Y</title>\n",
       "<g id=\"a_edge2\"><a xlink:title=\"1 → 2\">\n",
       "<path fill=\"none\" stroke=\"#4a4a4a\" d=\"M39.53,-71.7C39.53,-64.41 39.53,-55.73 39.53,-47.54\"/>\n",
       "<polygon fill=\"#4a4a4a\" stroke=\"#4a4a4a\" points=\"43.03,-47.62 39.53,-37.62 36.03,-47.62 43.03,-47.62\"/>\n",
       "</a>\n",
       "</g>\n",
       "</g>\n",
       "<!-- R -->\n",
       "<g id=\"node6\" class=\"node\">\n",
       "<title>R</title>\n",
       "<g id=\"a_node6\"><a xlink:title=\"(6) R\">\n",
       "<ellipse fill=\"#404040\" stroke=\"#4a4a4a\" cx=\"111.53\" cy=\"-18\" rx=\"27\" ry=\"18\"/>\n",
       "<text xml:space=\"preserve\" text-anchor=\"middle\" x=\"111.53\" y=\"-12.95\" font-family=\"Times,serif\" font-size=\"14.00\" fill=\"white\">R</text>\n",
       "</a>\n",
       "</g>\n",
       "</g>\n",
       "<!-- X2&#45;&gt;R -->\n",
       "<g id=\"edge9\" class=\"edge\">\n",
       "<title>X2-&gt;R</title>\n",
       "<g id=\"a_edge9\"><a xlink:title=\"1 → 6\">\n",
       "<path fill=\"none\" stroke=\"#4a4a4a\" d=\"M54.45,-74.5C64.29,-64.92 77.39,-52.19 88.55,-41.34\"/>\n",
       "<polygon fill=\"#4a4a4a\" stroke=\"#4a4a4a\" points=\"90.81,-44.02 95.54,-34.54 85.93,-39 90.81,-44.02\"/>\n",
       "</a>\n",
       "</g>\n",
       "</g>\n",
       "<!-- X0 -->\n",
       "<g id=\"node5\" class=\"node\">\n",
       "<title>X0</title>\n",
       "<g id=\"a_node5\"><a xlink:title=\"(5) X0\">\n",
       "<ellipse fill=\"#404040\" stroke=\"#4a4a4a\" cx=\"183.53\" cy=\"-162\" rx=\"27\" ry=\"18\"/>\n",
       "<text xml:space=\"preserve\" text-anchor=\"middle\" x=\"183.53\" y=\"-156.95\" font-family=\"Times,serif\" font-size=\"14.00\" fill=\"white\">X0</text>\n",
       "</a>\n",
       "</g>\n",
       "</g>\n",
       "<!-- X0&#45;&gt;Z -->\n",
       "<g id=\"edge5\" class=\"edge\">\n",
       "<title>X0-&gt;Z</title>\n",
       "<g id=\"a_edge5\"><a xlink:title=\"5 → 4\">\n",
       "<path fill=\"none\" stroke=\"#4a4a4a\" d=\"M168.61,-146.5C158.76,-136.92 145.67,-124.19 134.5,-113.34\"/>\n",
       "<polygon fill=\"#4a4a4a\" stroke=\"#4a4a4a\" points=\"137.12,-111 127.51,-106.54 132.24,-116.02 137.12,-111\"/>\n",
       "</a>\n",
       "</g>\n",
       "</g>\n",
       "<!-- Z&#45;&gt;Y -->\n",
       "<g id=\"edge7\" class=\"edge\">\n",
       "<title>Z-&gt;Y</title>\n",
       "<g id=\"a_edge7\"><a xlink:title=\"4 → 2\">\n",
       "<path fill=\"none\" stroke=\"#4a4a4a\" d=\"M96.61,-74.5C86.76,-64.92 73.67,-52.19 62.5,-41.34\"/>\n",
       "<polygon fill=\"#4a4a4a\" stroke=\"#4a4a4a\" points=\"65.12,-39 55.51,-34.54 60.24,-44.02 65.12,-39\"/>\n",
       "</a>\n",
       "</g>\n",
       "</g>\n",
       "<!-- Z&#45;&gt;R -->\n",
       "<g id=\"edge6\" class=\"edge\">\n",
       "<title>Z-&gt;R</title>\n",
       "<g id=\"a_edge6\"><a xlink:title=\"4 → 6\">\n",
       "<path fill=\"none\" stroke=\"#4a4a4a\" d=\"M111.53,-71.7C111.53,-64.41 111.53,-55.73 111.53,-47.54\"/>\n",
       "<polygon fill=\"#4a4a4a\" stroke=\"#4a4a4a\" points=\"115.03,-47.62 111.53,-37.62 108.03,-47.62 115.03,-47.62\"/>\n",
       "</a>\n",
       "</g>\n",
       "</g>\n",
       "</g>\n",
       "</svg>"
      ],
      "text/plain": [
       "(pyagrum.BayesNet@0x105737000) BN{nodes: 7, arcs: 9, domainSize: 320, dim: 37, mem: 496o}"
      ]
     },
     "execution_count": 2,
     "metadata": {},
     "output_type": "execute_result"
    }
   ],
   "source": [
    "template = gum.fastBN(\"X1->X2->Y;X3->Z->Y;X0->Z;X1->Z;X2->R[5];Z->R;X1->Y\")\n",
    "data_path = \"res/shap/Data_6var_direct_indirect.csv\"\n",
    "\n",
    "# gum.generateSample(template,1000,data_path)\n",
    "\n",
    "learner = gum.BNLearner(data_path, template)\n",
    "bn = learner.learnParameters(template.dag())\n",
    "bn"
   ]
  },
  {
   "cell_type": "markdown",
   "id": "47d0d395-1215-4c54-87f6-b7782de96844",
   "metadata": {
    "tags": []
   },
   "source": [
    "## 1-independence list (w.r.t. the class Y)\n",
    "Given a model, it may be interesting to investigate the conditional independences of the class Y created by this very model."
   ]
  },
  {
   "cell_type": "code",
   "execution_count": 3,
   "id": "649a0733-b441-47db-9f27-fbd9735c4b9e",
   "metadata": {
    "execution": {
     "iopub.execute_input": "2025-08-29T11:42:25.588388Z",
     "iopub.status.busy": "2025-08-29T11:42:25.588292Z",
     "iopub.status.idle": "2025-08-29T11:42:25.690061Z",
     "shell.execute_reply": "2025-08-29T11:42:25.689081Z",
     "shell.execute_reply.started": "2025-08-29T11:42:25.588378Z"
    },
    "tags": []
   },
   "outputs": [
    {
     "ename": "AttributeError",
     "evalue": "module 'pyagrum.lib.explain' has no attribute 'independenceListForPairs'",
     "output_type": "error",
     "traceback": [
      "\u001b[31m---------------------------------------------------------------------------\u001b[39m",
      "\u001b[31mAttributeError\u001b[39m                            Traceback (most recent call last)",
      "\u001b[36mCell\u001b[39m\u001b[36m \u001b[39m\u001b[32mIn[3]\u001b[39m\u001b[32m, line 2\u001b[39m\n\u001b[32m      1\u001b[39m \u001b[38;5;66;03m# this function explores all the CI between 2 variables and computes the p-values w.r.t to a csv file.\u001b[39;00m\n\u001b[32m----> \u001b[39m\u001b[32m2\u001b[39m \u001b[43mexpl\u001b[49m\u001b[43m.\u001b[49m\u001b[43mindependenceListForPairs\u001b[49m(bn, data_path)\n",
      "\u001b[31mAttributeError\u001b[39m: module 'pyagrum.lib.explain' has no attribute 'independenceListForPairs'"
     ]
    }
   ],
   "source": [
    "# this function explores all the CI between 2 variables and computes the p-values w.r.t to a csv file.\n",
    "expl.independenceListForPairs(bn, data_path)"
   ]
  },
  {
   "cell_type": "markdown",
   "id": "b0db3f57-29c2-4ffe-bd4e-b1cafddab2f1",
   "metadata": {},
   "source": [
    "... with respect to a specific target."
   ]
  },
  {
   "cell_type": "code",
   "execution_count": null,
   "id": "35e15285-4a9c-4ef1-99a0-f1f433cc0109",
   "metadata": {
    "execution": {
     "iopub.status.busy": "2025-08-29T11:42:25.690209Z",
     "iopub.status.idle": "2025-08-29T11:42:25.690315Z",
     "shell.execute_reply": "2025-08-29T11:42:25.690263Z",
     "shell.execute_reply.started": "2025-08-29T11:42:25.690257Z"
    },
    "tags": []
   },
   "outputs": [],
   "source": [
    "expl.independenceListForPairs(bn, data_path, target=\"Y\")"
   ]
  },
  {
   "cell_type": "markdown",
   "id": "2f5cb773-69ac-4dc2-86af-f3bcf6de2e8d",
   "metadata": {},
   "source": [
    "## 2-ShapValues : explaining a Bayesian network as a classifier"
   ]
  },
  {
   "cell_type": "code",
   "execution_count": null,
   "id": "e4c86fb1-7da1-4259-ae87-2d16002fb5a7",
   "metadata": {
    "execution": {
     "iopub.status.busy": "2025-08-29T11:42:25.690616Z",
     "iopub.status.idle": "2025-08-29T11:42:25.690712Z",
     "shell.execute_reply": "2025-08-29T11:42:25.690661Z",
     "shell.execute_reply.started": "2025-08-29T11:42:25.690657Z"
    },
    "scrolled": true
   },
   "outputs": [],
   "source": [
    "print(expl.ShapValues.__doc__)"
   ]
  },
  {
   "cell_type": "markdown",
   "id": "located-oriental",
   "metadata": {},
   "source": [
    "The ShapValue class implements the calculation of Shap values in Bayesian networks. It is necessary to specify a target and to provide a Bayesian network whose parameters are known and will be used later in the different calculation methods."
   ]
  },
  {
   "cell_type": "code",
   "execution_count": null,
   "id": "located-literacy",
   "metadata": {
    "execution": {
     "iopub.status.busy": "2025-08-29T11:42:25.690979Z",
     "iopub.status.idle": "2025-08-29T11:42:25.691102Z",
     "shell.execute_reply": "2025-08-29T11:42:25.691033Z",
     "shell.execute_reply.started": "2025-08-29T11:42:25.691028Z"
    },
    "tags": []
   },
   "outputs": [],
   "source": [
    "gumshap = expl.ShapValues(bn, \"Y\")"
   ]
  },
  {
   "cell_type": "markdown",
   "id": "electoral-democracy",
   "metadata": {},
   "source": [
    "### Compute Conditionnal in Bayesian Network"
   ]
  },
  {
   "cell_type": "markdown",
   "id": "35972ef6-14bd-4f28-991c-2f257eeac9de",
   "metadata": {},
   "source": [
    "A dataset (as a `pandas.dataframe`) must be provided so that the Bayesian network can learn its parameters and then predict.\n",
    "\n",
    "The method `conditional` computes the conditonal shap values using the Bayesian Networks. It returns 2 graphs and a dictionary. The first one shows the distribution of the shap values for each of the variables, the second one classifies the variables by their importance."
   ]
  },
  {
   "cell_type": "code",
   "execution_count": null,
   "id": "sixth-database",
   "metadata": {
    "execution": {
     "iopub.status.busy": "2025-08-29T11:42:25.691486Z",
     "iopub.status.idle": "2025-08-29T11:42:25.691651Z",
     "shell.execute_reply": "2025-08-29T11:42:25.691593Z",
     "shell.execute_reply.started": "2025-08-29T11:42:25.691582Z"
    },
    "tags": []
   },
   "outputs": [],
   "source": [
    "train = pd.read_csv(data_path).sample(frac=1.0)"
   ]
  },
  {
   "cell_type": "code",
   "execution_count": null,
   "id": "364eacb5-d12d-4c12-8dda-66bef7d07ddb",
   "metadata": {
    "execution": {
     "iopub.status.busy": "2025-08-29T11:42:25.692028Z",
     "iopub.status.idle": "2025-08-29T11:42:25.692128Z",
     "shell.execute_reply": "2025-08-29T11:42:25.692074Z",
     "shell.execute_reply.started": "2025-08-29T11:42:25.692068Z"
    },
    "tags": []
   },
   "outputs": [],
   "source": [
    "t_start = time.time()\n",
    "resultat = gumshap.conditional(train, plot=True, plot_importance=True, percentage=False)\n",
    "print(f\"Run Time : {time.time() - t_start} sec\")"
   ]
  },
  {
   "cell_type": "code",
   "execution_count": null,
   "id": "ed4a6e50-6a67-44c7-9a37-0499a760dc79",
   "metadata": {
    "execution": {
     "iopub.status.busy": "2025-08-29T11:42:25.692440Z",
     "iopub.status.idle": "2025-08-29T11:42:25.692552Z",
     "shell.execute_reply": "2025-08-29T11:42:25.692496Z",
     "shell.execute_reply.started": "2025-08-29T11:42:25.692492Z"
    },
    "tags": []
   },
   "outputs": [],
   "source": [
    "t_start = time.time()\n",
    "resultat = gumshap.conditional(train, plot=False, plot_importance=True, percentage=False)\n",
    "print(f\"Run Time : {time.time() - t_start} sec\")"
   ]
  },
  {
   "cell_type": "code",
   "execution_count": null,
   "id": "2bf8c89e-8d85-4f5c-838c-4b10795f3af9",
   "metadata": {
    "execution": {
     "iopub.status.busy": "2025-08-29T11:42:25.692832Z",
     "iopub.status.idle": "2025-08-29T11:42:25.692932Z",
     "shell.execute_reply": "2025-08-29T11:42:25.692876Z",
     "shell.execute_reply.started": "2025-08-29T11:42:25.692872Z"
    },
    "tags": [
     "nbsphinx-thumbnail"
    ]
   },
   "outputs": [],
   "source": [
    "result = gumshap.conditional(train, plot=True, plot_importance=False, percentage=False)\n",
    "# result is a Dict[str,float] of the different Shapley values for all nodes."
   ]
  },
  {
   "cell_type": "markdown",
   "id": "1ef94729-6164-42b4-841e-58dad7ee43e9",
   "metadata": {},
   "source": [
    "The result is returned as a dictionary, the keys are the names of the features and the associated value is the absolute value of the average of the calculated shap."
   ]
  },
  {
   "cell_type": "code",
   "execution_count": null,
   "id": "28e6effb-de9a-4380-9c03-c488d4364f78",
   "metadata": {
    "execution": {
     "iopub.status.busy": "2025-08-29T11:42:25.693373Z",
     "iopub.status.idle": "2025-08-29T11:42:25.693486Z",
     "shell.execute_reply": "2025-08-29T11:42:25.693427Z",
     "shell.execute_reply.started": "2025-08-29T11:42:25.693421Z"
    },
    "tags": []
   },
   "outputs": [],
   "source": [
    "t_start = time.time()\n",
    "resultat = gumshap.conditional(train, plot=False, plot_importance=False, percentage=False)\n",
    "print(f\"Run Time : {time.time() - t_start} sec\")\n",
    "resultat"
   ]
  },
  {
   "cell_type": "markdown",
   "id": "b7058ffe-9d7c-4282-8687-21e31e3e08cd",
   "metadata": {},
   "source": [
    "### Causal Shap Values"
   ]
  },
  {
   "cell_type": "markdown",
   "id": "3fb1c5cc-1b56-4eb9-908d-112175bad2b0",
   "metadata": {},
   "source": [
    "This method is similar to the previous one, except the formula of computation. It computes the causal shap value as described in the paper of Heskes *Causal Shapley Values: Exploiting Causal Knowledge\n",
    "to Explain Individual Predictions of Complex Models* ."
   ]
  },
  {
   "cell_type": "code",
   "execution_count": null,
   "id": "e5d98329-c055-4ac9-bc30-62466a665cd0",
   "metadata": {
    "execution": {
     "iopub.status.busy": "2025-08-29T11:42:25.693742Z",
     "iopub.status.idle": "2025-08-29T11:42:25.693840Z",
     "shell.execute_reply": "2025-08-29T11:42:25.693783Z",
     "shell.execute_reply.started": "2025-08-29T11:42:25.693779Z"
    },
    "tags": []
   },
   "outputs": [],
   "source": [
    "t_start = time.time()\n",
    "causal = gumshap.causal(train, plot=True, plot_importance=True, percentage=False)\n",
    "print(f\"Run Time : {time.time() - t_start} sec\")"
   ]
  },
  {
   "cell_type": "markdown",
   "id": "b9094bac-3582-4926-8e74-4c908d2adf7c",
   "metadata": {},
   "source": [
    "As you can see, since $R$ is not among the 'causes' of Y, its causal importance is null.\n",
    "\n",
    "### Marginal Shap Values\n",
    "\n",
    "Similarly, one can also compute marginal Shap Value."
   ]
  },
  {
   "cell_type": "code",
   "execution_count": null,
   "id": "e07ab4b7-2a8e-4251-b55c-92d83a9796c7",
   "metadata": {
    "execution": {
     "iopub.status.busy": "2025-08-29T11:42:25.694142Z",
     "iopub.status.idle": "2025-08-29T11:42:25.694271Z",
     "shell.execute_reply": "2025-08-29T11:42:25.694198Z",
     "shell.execute_reply.started": "2025-08-29T11:42:25.694192Z"
    },
    "tags": []
   },
   "outputs": [],
   "source": [
    "t_start = time.time()\n",
    "marginal = gumshap.marginal(train, sample_size=10, plot=True, plot_importance=True, percentage=False)\n",
    "print(f\"Run Time : {time.time() - t_start} sec\")\n",
    "print(marginal)"
   ]
  },
  {
   "cell_type": "markdown",
   "id": "5121cda3-402a-41aa-a331-223417f7a9d1",
   "metadata": {},
   "source": [
    "As you can see, since $R$, $X0$ and $X3$ are not in the Markov Blanket of $Y$, their marginal importances are null."
   ]
  },
  {
   "cell_type": "markdown",
   "id": "410a39db-889e-420d-b8da-b5621f5366cb",
   "metadata": {},
   "source": [
    "### Saving the graph\n",
    "\n",
    "You can specify a filename if you prefer to save this figure instead of showing it:\n"
   ]
  },
  {
   "cell_type": "code",
   "execution_count": null,
   "id": "57938e5e-d30a-45e1-8dd6-c0f05f532a9e",
   "metadata": {
    "execution": {
     "iopub.status.busy": "2025-08-29T11:42:25.694681Z",
     "iopub.status.idle": "2025-08-29T11:42:25.694864Z",
     "shell.execute_reply": "2025-08-29T11:42:25.694801Z",
     "shell.execute_reply.started": "2025-08-29T11:42:25.694795Z"
    }
   },
   "outputs": [],
   "source": [
    "t_start = time.time()\n",
    "causal2 = gumshap.causal(train, plot=True, plot_importance=True, percentage=False, filename=\"out/marginal.pdf\")\n",
    "print(f\"Run Time : {time.time() - t_start} sec\")\n",
    "print(causal2)"
   ]
  },
  {
   "cell_type": "markdown",
   "id": "11c71e34-a3ca-48aa-92e2-85644039dbb1",
   "metadata": {},
   "source": [
    "### Visualizing shapvalues directly on a BN"
   ]
  },
  {
   "cell_type": "markdown",
   "id": "3daa2502-4375-45ba-87c8-8cb7eee0c4e6",
   "metadata": {},
   "source": [
    "This function returns a coloured graph that makes it easier to understand which variable is important and where it is located in the graph."
   ]
  },
  {
   "cell_type": "code",
   "execution_count": null,
   "id": "3f5520f0-ddd0-4ef0-85a6-4475e5a45991",
   "metadata": {
    "execution": {
     "iopub.status.busy": "2025-08-29T11:42:25.695167Z",
     "iopub.status.idle": "2025-08-29T11:42:25.695284Z",
     "shell.execute_reply": "2025-08-29T11:42:25.695230Z",
     "shell.execute_reply.started": "2025-08-29T11:42:25.695226Z"
    },
    "tags": []
   },
   "outputs": [],
   "source": [
    "expl.showShapValues(bn, causal)"
   ]
  },
  {
   "cell_type": "markdown",
   "id": "734a6128-00ca-4968-bca0-4691705dcddf",
   "metadata": {
    "execution": {
     "iopub.execute_input": "2022-02-19T11:06:35.742100Z",
     "iopub.status.busy": "2022-02-19T11:06:35.741031Z",
     "iopub.status.idle": "2022-02-19T11:06:35.762029Z",
     "shell.execute_reply": "2022-02-19T11:06:35.761027Z",
     "shell.execute_reply.started": "2022-02-19T11:06:35.741031Z"
    }
   },
   "source": [
    "## Visualizing information\n",
    "\n",
    "Finally another view consists in showing the entropy on each node and the mutual informations on each arcs."
   ]
  },
  {
   "cell_type": "code",
   "execution_count": null,
   "id": "1f137755-6659-4802-9ce5-7e87ff518b77",
   "metadata": {
    "editable": true,
    "execution": {
     "iopub.status.busy": "2025-08-29T11:42:25.695574Z",
     "iopub.status.idle": "2025-08-29T11:42:25.695673Z",
     "shell.execute_reply": "2025-08-29T11:42:25.695619Z",
     "shell.execute_reply.started": "2025-08-29T11:42:25.695614Z"
    },
    "slideshow": {
     "slide_type": ""
    },
    "tags": []
   },
   "outputs": [],
   "source": [
    "expl.showInformation(bn)"
   ]
  },
  {
   "cell_type": "code",
   "execution_count": null,
   "id": "c8e48a2e-4e0d-4e33-8ef6-401a66692a66",
   "metadata": {},
   "outputs": [],
   "source": []
  }
 ],
 "metadata": {
  "kernelspec": {
   "display_name": "Python 3 (ipykernel)",
   "language": "python",
   "name": "python3"
  },
  "language_info": {
   "codemirror_mode": {
    "name": "ipython",
    "version": 3
   },
   "file_extension": ".py",
   "mimetype": "text/x-python",
   "name": "python",
   "nbconvert_exporter": "python",
   "pygments_lexer": "ipython3",
   "version": "3.13.7"
  }
 },
 "nbformat": 4,
 "nbformat_minor": 5
}
