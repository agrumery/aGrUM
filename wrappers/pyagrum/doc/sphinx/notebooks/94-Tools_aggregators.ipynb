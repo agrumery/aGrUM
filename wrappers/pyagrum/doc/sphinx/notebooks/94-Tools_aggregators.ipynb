{
 "cells": [
  {
   "cell_type": "markdown",
   "metadata": {
    "editable": true,
    "slideshow": {
     "slide_type": ""
    },
    "tags": []
   },
   "source": [
    "# Aggregators"
   ]
  },
  {
   "cell_type": "markdown",
   "metadata": {},
   "source": [
    "| | | |\n",
    "|-|-|-|\n",
    "|[ ![Creative Commons License](images/cc4.png)](http://creativecommons.org/licenses/by-nc/4.0/) |[ ![aGrUM](images/logoAgrum.png)](https://agrum.org) |[ ![interactive online version](images/atbinder.svg)](https://agrum.gitlab.io/extra/agrum_at_binder.html)"
   ]
  },
  {
   "cell_type": "markdown",
   "metadata": {},
   "source": [
    "Aggregators are special type of nodes that includes a generic CPT for any numbers of parents.\n",
    "\n",
    "*pyAgrum* proposes a list of such aggregators. Some of then are used below."
   ]
  },
  {
   "cell_type": "code",
   "execution_count": 1,
   "metadata": {
    "ExecuteTime": {
     "end_time": "2019-02-25T15:57:43.608514Z",
     "start_time": "2019-02-25T15:57:43.390874Z"
    },
    "execution": {
     "iopub.execute_input": "2025-05-30T08:13:52.000780Z",
     "iopub.status.busy": "2025-05-30T08:13:52.000558Z",
     "iopub.status.idle": "2025-05-30T08:13:52.002867Z",
     "shell.execute_reply": "2025-05-30T08:13:52.002581Z",
     "shell.execute_reply.started": "2025-05-30T08:13:52.000760Z"
    }
   },
   "outputs": [],
   "source": [
    "import pyagrum as gum\n",
    "import pyagrum.lib.notebook as gnb"
   ]
  },
  {
   "cell_type": "code",
   "execution_count": 2,
   "metadata": {
    "ExecuteTime": {
     "end_time": "2019-02-25T15:57:43.615280Z",
     "start_time": "2019-02-25T15:57:43.611357Z"
    },
    "execution": {
     "iopub.execute_input": "2025-05-30T08:13:52.003323Z",
     "iopub.status.busy": "2025-05-30T08:13:52.003217Z",
     "iopub.status.idle": "2025-05-30T08:13:52.006055Z",
     "shell.execute_reply": "2025-05-30T08:13:52.005848Z",
     "shell.execute_reply.started": "2025-05-30T08:13:52.003309Z"
    },
    "tags": []
   },
   "outputs": [],
   "source": [
    "min_x = 0\n",
    "max_x = 15\n",
    "\n",
    "bn = gum.BayesNet()\n",
    "l = [bn.add(gum.RangeVariable(item, item, min_x, max_x)) for item in [\"a\", \"b\", \"c\", \"d\", \"e\", \"f\"]]\n",
    "\n",
    "gum.config[\"notebook\", \"histogram_line_threshold\"] = 15"
   ]
  },
  {
   "cell_type": "code",
   "execution_count": 3,
   "metadata": {
    "ExecuteTime": {
     "end_time": "2019-02-25T15:57:43.639317Z",
     "start_time": "2019-02-25T15:57:43.618969Z"
    },
    "execution": {
     "iopub.execute_input": "2025-05-30T08:13:52.006753Z",
     "iopub.status.busy": "2025-05-30T08:13:52.006684Z",
     "iopub.status.idle": "2025-05-30T08:13:52.008543Z",
     "shell.execute_reply": "2025-05-30T08:13:52.008331Z",
     "shell.execute_reply.started": "2025-05-30T08:13:52.006745Z"
    },
    "tags": []
   },
   "outputs": [],
   "source": [
    "nmax = bn.addMAX(gum.RangeVariable(\"MAX\", \"MAX\", min_x, max_x))\n",
    "bn.addArc(l[0], nmax)\n",
    "bn.addArc(l[1], nmax)\n",
    "bn.addArc(l[2], nmax)"
   ]
  },
  {
   "cell_type": "code",
   "execution_count": 4,
   "metadata": {
    "ExecuteTime": {
     "end_time": "2019-02-25T15:57:43.639317Z",
     "start_time": "2019-02-25T15:57:43.618969Z"
    },
    "execution": {
     "iopub.execute_input": "2025-05-30T08:13:52.009035Z",
     "iopub.status.busy": "2025-05-30T08:13:52.008968Z",
     "iopub.status.idle": "2025-05-30T08:13:52.010703Z",
     "shell.execute_reply": "2025-05-30T08:13:52.010470Z",
     "shell.execute_reply.started": "2025-05-30T08:13:52.009027Z"
    },
    "tags": []
   },
   "outputs": [],
   "source": [
    "nmin = bn.addMIN(gum.RangeVariable(\"MIN\", \"MIN\", min_x, max_x))\n",
    "bn.addArc(l[3], nmin)\n",
    "bn.addArc(l[4], nmin)\n",
    "bn.addArc(l[5], nmin)"
   ]
  },
  {
   "cell_type": "code",
   "execution_count": 5,
   "metadata": {
    "ExecuteTime": {
     "end_time": "2019-02-25T15:57:43.639317Z",
     "start_time": "2019-02-25T15:57:43.618969Z"
    },
    "execution": {
     "iopub.execute_input": "2025-05-30T08:13:52.011219Z",
     "iopub.status.busy": "2025-05-30T08:13:52.011151Z",
     "iopub.status.idle": "2025-05-30T08:13:52.012802Z",
     "shell.execute_reply": "2025-05-30T08:13:52.012647Z",
     "shell.execute_reply.started": "2025-05-30T08:13:52.011212Z"
    },
    "tags": []
   },
   "outputs": [],
   "source": [
    "nampl = bn.addAMPLITUDE(gum.RangeVariable(\"DELTA\", \"DELTA\", 0, max_x - min_x))\n",
    "bn.addArc(nmax, nampl)\n",
    "bn.addArc(nmin, nampl)"
   ]
  },
  {
   "cell_type": "code",
   "execution_count": 6,
   "metadata": {
    "ExecuteTime": {
     "end_time": "2019-02-25T15:57:43.639317Z",
     "start_time": "2019-02-25T15:57:43.618969Z"
    },
    "execution": {
     "iopub.execute_input": "2025-05-30T08:13:52.014185Z",
     "iopub.status.busy": "2025-05-30T08:13:52.014101Z",
     "iopub.status.idle": "2025-05-30T08:13:52.015818Z",
     "shell.execute_reply": "2025-05-30T08:13:52.015621Z",
     "shell.execute_reply.started": "2025-05-30T08:13:52.014177Z"
    },
    "tags": []
   },
   "outputs": [],
   "source": [
    "nmedian = bn.addMEDIAN(gum.RangeVariable(\"MEDIAN\", \"MEDIAN\", min_x, max_x))\n",
    "for n in [l[0], l[1], l[2], l[3]]:\n",
    "  bn.addArc(n, nmedian)\n",
    "# potential for median has a size : 16^5=2^20 double !"
   ]
  },
  {
   "cell_type": "code",
   "execution_count": 7,
   "metadata": {
    "ExecuteTime": {
     "end_time": "2019-02-25T15:57:43.639317Z",
     "start_time": "2019-02-25T15:57:43.618969Z"
    },
    "execution": {
     "iopub.execute_input": "2025-05-30T08:13:52.016224Z",
     "iopub.status.busy": "2025-05-30T08:13:52.016143Z",
     "iopub.status.idle": "2025-05-30T08:13:52.018142Z",
     "shell.execute_reply": "2025-05-30T08:13:52.017921Z",
     "shell.execute_reply.started": "2025-05-30T08:13:52.016215Z"
    },
    "tags": []
   },
   "outputs": [],
   "source": [
    "nexists = bn.addEXISTS(gum.LabelizedVariable(\"EXISTS_0\", \"EXISTS\"), 0)\n",
    "bn.addArc(l[0], nexists)\n",
    "bn.addArc(l[1], nexists)\n",
    "bn.addArc(l[2], nexists)"
   ]
  },
  {
   "cell_type": "code",
   "execution_count": 8,
   "metadata": {
    "ExecuteTime": {
     "end_time": "2019-02-25T15:57:43.639317Z",
     "start_time": "2019-02-25T15:57:43.618969Z"
    },
    "execution": {
     "iopub.execute_input": "2025-05-30T08:13:52.018761Z",
     "iopub.status.busy": "2025-05-30T08:13:52.018543Z",
     "iopub.status.idle": "2025-05-30T08:13:52.020503Z",
     "shell.execute_reply": "2025-05-30T08:13:52.020308Z",
     "shell.execute_reply.started": "2025-05-30T08:13:52.018752Z"
    },
    "tags": []
   },
   "outputs": [],
   "source": [
    "nforall = bn.addFORALL(gum.LabelizedVariable(\"FORALL_1\", \"FORALL\"), 1)\n",
    "bn.addArc(l[3], nforall)\n",
    "bn.addArc(l[4], nforall)\n",
    "bn.addArc(l[5], nforall)"
   ]
  },
  {
   "cell_type": "code",
   "execution_count": 9,
   "metadata": {
    "ExecuteTime": {
     "end_time": "2019-02-25T15:57:43.639317Z",
     "start_time": "2019-02-25T15:57:43.618969Z"
    },
    "execution": {
     "iopub.execute_input": "2025-05-30T08:13:52.020821Z",
     "iopub.status.busy": "2025-05-30T08:13:52.020754Z",
     "iopub.status.idle": "2025-05-30T08:13:52.022770Z",
     "shell.execute_reply": "2025-05-30T08:13:52.022558Z",
     "shell.execute_reply.started": "2025-05-30T08:13:52.020814Z"
    },
    "tags": []
   },
   "outputs": [],
   "source": [
    "ncount = bn.addCOUNT(gum.RangeVariable(\"COUNT_1\", \"COUNT_1,\", 0, 3), 1)\n",
    "bn.addArc(l[0], ncount)\n",
    "bn.addArc(l[1], ncount)\n",
    "bn.addArc(l[2], ncount)"
   ]
  },
  {
   "cell_type": "code",
   "execution_count": 10,
   "metadata": {
    "ExecuteTime": {
     "end_time": "2019-02-25T15:57:49.652849Z",
     "start_time": "2019-02-25T15:57:43.641834Z"
    },
    "editable": true,
    "execution": {
     "iopub.execute_input": "2025-05-30T08:13:52.023187Z",
     "iopub.status.busy": "2025-05-30T08:13:52.023116Z",
     "iopub.status.idle": "2025-05-30T08:13:52.024755Z",
     "shell.execute_reply": "2025-05-30T08:13:52.024537Z",
     "shell.execute_reply.started": "2025-05-30T08:13:52.023179Z"
    },
    "slideshow": {
     "slide_type": ""
    },
    "tags": []
   },
   "outputs": [],
   "source": [
    "for nod in l:\n",
    "  bn.cpt(nod).fillWith(1).normalize()"
   ]
  },
  {
   "cell_type": "code",
   "execution_count": null,
   "metadata": {
    "ExecuteTime": {
     "end_time": "2019-02-25T15:57:49.652849Z",
     "start_time": "2019-02-25T15:57:43.641834Z"
    },
    "editable": true,
    "execution": {
     "execution_failed": "2025-05-30T08:13:54.978Z"
    },
    "slideshow": {
     "slide_type": ""
    },
    "tags": []
   },
   "outputs": [],
   "source": [
    "gnb.showInference(bn, size=\"13\")"
   ]
  },
  {
   "cell_type": "code",
   "execution_count": null,
   "metadata": {
    "editable": true,
    "execution": {
     "execution_failed": "2025-05-30T08:13:54.979Z"
    },
    "slideshow": {
     "slide_type": ""
    },
    "tags": [
     "nbsphinx-thumbnail"
    ]
   },
   "outputs": [],
   "source": [
    "# dot | neato | fdp | sfdp | twopi | circo | osage | patchwork\n",
    "gum.config[\"notebook\", \"graph_rankdir\"] = \"LR\"\n",
    "gnb.showInference(bn, size=\"13\", evs={\"MEDIAN\": [0, 0, 0, 0, 0, 0, 0, 0, 1, 1, 1, 1, 1, 1, 0, 0]})\n",
    "gum.config.reset()"
   ]
  },
  {
   "cell_type": "code",
   "execution_count": null,
   "metadata": {
    "ExecuteTime": {
     "end_time": "2019-02-25T15:58:00.352334Z",
     "start_time": "2019-02-25T15:57:54.917160Z"
    },
    "editable": true,
    "execution": {
     "execution_failed": "2025-05-30T08:13:54.979Z"
    },
    "slideshow": {
     "slide_type": ""
    },
    "tags": []
   },
   "outputs": [],
   "source": [
    "# if the roots do not have uniform but random distribution\n",
    "for nod in l:\n",
    "  bn.generateCPT(nod)\n",
    "\n",
    "gnb.showInference(bn, size=\"13\")"
   ]
  },
  {
   "cell_type": "code",
   "execution_count": null,
   "metadata": {
    "editable": true,
    "execution": {
     "execution_failed": "2025-05-30T08:13:54.979Z"
    },
    "slideshow": {
     "slide_type": ""
    },
    "tags": []
   },
   "outputs": [],
   "source": [
    "gnb.showInference(bn, size=\"13\", evs={\"MEDIAN\": [0, 0, 0, 0, 0, 0, 0, 0, 1, 1, 1, 1, 1, 1, 0, 0]})"
   ]
  }
 ],
 "metadata": {
  "hide_input": false,
  "kernelspec": {
   "display_name": "Python 3 (ipykernel)",
   "language": "python",
   "name": "python3"
  },
  "language_info": {
   "codemirror_mode": {
    "name": "ipython",
    "version": 3
   },
   "file_extension": ".py",
   "mimetype": "text/x-python",
   "name": "python",
   "nbconvert_exporter": "python",
   "pygments_lexer": "ipython3",
   "version": "3.13.3"
  }
 },
 "nbformat": 4,
 "nbformat_minor": 4
}
